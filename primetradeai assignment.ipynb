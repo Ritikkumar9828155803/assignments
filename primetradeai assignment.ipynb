{
  "nbformat": 4,
  "nbformat_minor": 0,
  "metadata": {
    "colab": {
      "provenance": [],
      "authorship_tag": "ABX9TyOaenrFAG5jkegOufnvwPJb",
      "include_colab_link": true
    },
    "kernelspec": {
      "name": "python3",
      "display_name": "Python 3"
    },
    "language_info": {
      "name": "python"
    }
  },
  "cells": [
    {
      "cell_type": "markdown",
      "metadata": {
        "id": "view-in-github",
        "colab_type": "text"
      },
      "source": [
        "<a href=\"https://colab.research.google.com/github/Ritikkumar9828155803/assignments/blob/main/primetradeai%20assignment.ipynb\" target=\"_parent\"><img src=\"https://colab.research.google.com/assets/colab-badge.svg\" alt=\"Open In Colab\"/></a>"
      ]
    },
    {
      "cell_type": "markdown",
      "source": [
        "Import libraries"
      ],
      "metadata": {
        "id": "7RNyu7rNoEMP"
      }
    },
    {
      "cell_type": "code",
      "source": [
        "import pandas as pd\n",
        "import numpy as np\n",
        "from sklearn.model_selection import train_test_split, cross_val_score, GridSearchCV\n",
        "from sklearn.linear_model import LinearRegression\n",
        "from sklearn.ensemble import RandomForestRegressor, GradientBoostingRegressor\n",
        "from sklearn.preprocessing import StandardScaler\n",
        "from sklearn.metrics import mean_squared_error, r2_score\n",
        "from datetime import datetime"
      ],
      "metadata": {
        "id": "7RevDOi2nWA6"
      },
      "execution_count": 12,
      "outputs": []
    },
    {
      "cell_type": "code",
      "source": [
        "import warnings\n",
        "warnings.filterwarnings('ignore')"
      ],
      "metadata": {
        "id": "wrcN5lI1nbB9"
      },
      "execution_count": 13,
      "outputs": []
    },
    {
      "cell_type": "markdown",
      "source": [
        "Uploading dataset and data cleaning"
      ],
      "metadata": {
        "id": "xoUIJwiPoK6i"
      }
    },
    {
      "cell_type": "code",
      "source": [
        "def load_and_clean_data():\n",
        "\n",
        "    trader_data = pd.read_csv('historical data.csv')\n",
        "\n",
        "\n",
        "    trader_data['Timestamp IST'] = pd.to_datetime(trader_data['Timestamp IST'], format='%d-%m-%Y %H:%M')\n",
        "    trader_data['Size USD'] = pd.to_numeric(trader_data['Size USD'], errors='coerce').fillna(0)\n",
        "    trader_data['Execution Price'] = pd.to_numeric(trader_data['Execution Price'], errors='coerce').fillna(0)\n",
        "    trader_data['Fee'] = pd.to_numeric(trader_data['Fee'], errors='coerce').fillna(0)\n",
        "\n",
        "\n",
        "    trader_data = trader_data[trader_data['Side'] == 'BUY']\n",
        "\n",
        "\n",
        "    trader_data['Date'] = trader_data['Timestamp IST'].dt.date\n",
        "    aggregated_data = trader_data.groupby('Date').agg({\n",
        "        'Size USD': 'sum',\n",
        "        'Execution Price': 'mean',\n",
        "        'Fee': 'sum',\n",
        "        'Timestamp IST': 'count'\n",
        "    }).rename(columns={\n",
        "        'Size USD': 'total_buy_volume',\n",
        "        'Execution Price': 'avg_execution_price',\n",
        "        'Fee': 'total_fees',\n",
        "        'Timestamp IST': 'trade_count'\n",
        "    }).reset_index()\n",
        "\n",
        "\n",
        "    sentiment_data = pd.read_csv('fear_greed index.csv')\n",
        "\n",
        "\n",
        "    sentiment_data['date'] = pd.to_datetime(sentiment_data['date'], format='%Y-%m-%d')\n",
        "    sentiment_data['Date'] = sentiment_data['date'].dt.date\n",
        "\n",
        "\n",
        "    sentiment_map = {\n",
        "        'Extreme Fear': 1,\n",
        "        'Fear': 2,\n",
        "        'Neutral': 3,\n",
        "        'Greed': 4,\n",
        "        'Extreme Greed': 5\n",
        "    }\n",
        "    sentiment_data['sentiment_value'] = sentiment_data['classification'].map(sentiment_map)\n",
        "\n",
        "\n",
        "    trader_dates = set(aggregated_data['Date'])\n",
        "    sentiment_dates = set(sentiment_data['Date'])\n",
        "    if not trader_dates.intersection(sentiment_dates):\n",
        "        print(\"Warning: No overlapping dates between trader data and sentiment data. All sentiment values will be imputed as Neutral (3).\")\n",
        "\n",
        "\n",
        "    merged_data = pd.merge(aggregated_data, sentiment_data[['Date', 'sentiment_value']], on='Date', how='left')\n",
        "    merged_data['sentiment_value'] = merged_data['sentiment_value'].fillna(3)  # Default to Neutral\n",
        "\n",
        "    return merged_data"
      ],
      "metadata": {
        "id": "oGv-FEkwwU6K"
      },
      "execution_count": 14,
      "outputs": []
    },
    {
      "cell_type": "code",
      "source": [
        "def engineer_features(df):\n",
        "\n",
        "    df['prev_day_volume'] = df['total_buy_volume'].shift(1).fillna(0)\n",
        "    df['prev_day_price'] = df['avg_execution_price'].shift(1).fillna(df['avg_execution_price'].mean())\n",
        "\n",
        "\n",
        "    features = ['sentiment_value', 'avg_execution_price', 'total_fees', 'trade_count', 'prev_day_volume', 'prev_day_price']\n",
        "    target = 'total_buy_volume'\n",
        "\n",
        "    X = df[features]\n",
        "    y = df[target]\n",
        "\n",
        "\n",
        "    scaler = StandardScaler()\n",
        "    X_scaled = scaler.fit_transform(X)\n",
        "\n",
        "    return X_scaled, y, features"
      ],
      "metadata": {
        "id": "5VAcAd5bn-ho"
      },
      "execution_count": 15,
      "outputs": []
    },
    {
      "cell_type": "markdown",
      "source": [
        "Model selection"
      ],
      "metadata": {
        "id": "AdWm2c4Poh7K"
      }
    },
    {
      "cell_type": "code",
      "execution_count": 16,
      "metadata": {
        "colab": {
          "base_uri": "https://localhost:8080/",
          "height": 0
        },
        "id": "c2ZxdptZm123",
        "outputId": "99026d72-27f0-4f2b-cb0c-65697a9252af"
      },
      "outputs": [
        {
          "output_type": "stream",
          "name": "stdout",
          "text": [
            "\n",
            "Training Linear Regression...\n",
            "Linear Regression - MSE: 422141274615.43, R2: 0.9752, CV R2 Mean: -1.8309 ± 3.2578\n",
            "\n",
            "Training Random Forest...\n",
            "Best parameters for Random Forest: {'max_depth': 10, 'min_samples_split': 5, 'n_estimators': 100}\n",
            "Random Forest - MSE: 1733133719528.23, R2: 0.8980, CV R2 Mean: -2.0185 ± 5.3627\n",
            "\n",
            "Feature Importance for Random Forest:\n",
            "               Feature  Importance\n",
            "2           total_fees    0.942594\n",
            "3          trade_count    0.032790\n",
            "1  avg_execution_price    0.009583\n",
            "4      prev_day_volume    0.007958\n",
            "0      sentiment_value    0.005371\n",
            "5       prev_day_price    0.001703\n",
            "\n",
            "Training Gradient Boosting...\n",
            "Best parameters for Gradient Boosting: {'learning_rate': 0.1, 'max_depth': 3, 'n_estimators': 100}\n",
            "Gradient Boosting - MSE: 2287541342814.39, R2: 0.8654, CV R2 Mean: -0.9718 ± 2.1649\n",
            "\n",
            "Feature Importance for Gradient Boosting:\n",
            "               Feature  Importance\n",
            "2           total_fees    0.937612\n",
            "3          trade_count    0.032416\n",
            "1  avg_execution_price    0.011808\n",
            "4      prev_day_volume    0.011257\n",
            "0      sentiment_value    0.005080\n",
            "5       prev_day_price    0.001827\n",
            "\n",
            "Summary of Model Performance:\n",
            "Linear Regression:\n",
            "  MSE: 422141274615.43\n",
            "  R2: 0.9752\n",
            "  CV R2 Mean: -1.8309 ± 3.2578\n",
            "Random Forest:\n",
            "  MSE: 1733133719528.23\n",
            "  R2: 0.8980\n",
            "  CV R2 Mean: -2.0185 ± 5.3627\n",
            "Gradient Boosting:\n",
            "  MSE: 2287541342814.39\n",
            "  R2: 0.8654\n",
            "  CV R2 Mean: -0.9718 ± 2.1649\n",
            "\n",
            "Best model saved predictions to 'predictions.csv'\n"
          ]
        }
      ],
      "source": [
        "def train_and_evaluate_models(X, y, features):\n",
        "\n",
        "    X_train, X_test, y_train, y_test = train_test_split(X, y, test_size=0.2, random_state=42)\n",
        "\n",
        "\n",
        "    models = {\n",
        "        'Linear Regression': LinearRegression(),\n",
        "        'Random Forest': RandomForestRegressor(random_state=42),\n",
        "        'Gradient Boosting': GradientBoostingRegressor(random_state=42)\n",
        "    }\n",
        "\n",
        "\n",
        "    rf_param_grid = {\n",
        "        'n_estimators': [100, 200],\n",
        "        'max_depth': [None, 10, 20],\n",
        "        'min_samples_split': [2, 5]\n",
        "    }\n",
        "\n",
        "    gb_param_grid = {\n",
        "        'n_estimators': [100, 200],\n",
        "        'learning_rate': [0.01, 0.1],\n",
        "        'max_depth': [3, 5]\n",
        "    }\n",
        "\n",
        "    results = {}\n",
        "    best_model = None\n",
        "    best_score = float('-inf')\n",
        "    predictions = None\n",
        "\n",
        "    for name, model in models.items():\n",
        "        print(f\"\\nTraining {name}...\")\n",
        "\n",
        "\n",
        "        if name in ['Random Forest', 'Gradient Boosting']:\n",
        "            param_grid = rf_param_grid if name == 'Random Forest' else gb_param_grid\n",
        "            grid_search = GridSearchCV(model, param_grid, cv=5, scoring='r2', n_jobs=-1)\n",
        "            grid_search.fit(X_train, y_train)\n",
        "            model = grid_search.best_estimator_\n",
        "            print(f\"Best parameters for {name}: {grid_search.best_params_}\")\n",
        "\n",
        "\n",
        "        model.fit(X_train, y_train)\n",
        "\n",
        "\n",
        "        y_pred = model.predict(X_test)\n",
        "        mse = mean_squared_error(y_test, y_pred)\n",
        "        r2 = r2_score(y_test, y_pred)\n",
        "\n",
        "\n",
        "        cv_scores = cross_val_score(model, X, y, cv=5, scoring='r2')\n",
        "\n",
        "        results[name] = {\n",
        "            'MSE': mse,\n",
        "            'R2': r2,\n",
        "            'CV R2 Mean': cv_scores.mean(),\n",
        "            'CV R2 Std': cv_scores.std()\n",
        "        }\n",
        "\n",
        "        print(f\"{name} - MSE: {mse:.2f}, R2: {r2:.4f}, CV R2 Mean: {cv_scores.mean():.4f} ± {cv_scores.std():.4f}\")\n",
        "\n",
        "\n",
        "        if name in ['Random Forest', 'Gradient Boosting']:\n",
        "            importance = pd.DataFrame({\n",
        "                'Feature': features,\n",
        "                'Importance': model.feature_importances_\n",
        "            }).sort_values(by='Importance', ascending=False)\n",
        "            print(f\"\\nFeature Importance for {name}:\\n{importance}\")\n",
        "\n",
        "\n",
        "        if r2 > best_score:\n",
        "            best_score = r2\n",
        "            best_model = model\n",
        "            predictions = y_pred\n",
        "\n",
        "\n",
        "    pd.DataFrame({\n",
        "        'Actual': y_test,\n",
        "        'Predicted': predictions\n",
        "    }).to_csv('predictions.csv', index=False)\n",
        "\n",
        "    return results, best_model\n",
        "\n",
        "\n",
        "if __name__ == \"__main__\":\n",
        "\n",
        "    data = load_and_clean_data()\n",
        "\n",
        "\n",
        "    X, y, features = engineer_features(data)\n",
        "\n",
        "\n",
        "    results, best_model = train_and_evaluate_models(X, y, features)\n",
        "\n",
        "\n",
        "    print(\"\\nSummary of Model Performance:\")\n",
        "    for name, metrics in results.items():\n",
        "        print(f\"{name}:\")\n",
        "        print(f\"  MSE: {metrics['MSE']:.2f}\")\n",
        "        print(f\"  R2: {metrics['R2']:.4f}\")\n",
        "        print(f\"  CV R2 Mean: {metrics['CV R2 Mean']:.4f} ± {metrics['CV R2 Std']:.4f}\")\n",
        "\n",
        "    print(\"\\nBest model saved predictions to 'predictions.csv'\")"
      ]
    },
    {
      "cell_type": "code",
      "source": [
        "from google.colab import files\n",
        "\n",
        "files.download('predictions.csv')"
      ],
      "metadata": {
        "colab": {
          "base_uri": "https://localhost:8080/",
          "height": 17
        },
        "id": "tYdCVU14xPd6",
        "outputId": "a67b469d-b88f-4be5-b19d-f1280185ca5e"
      },
      "execution_count": 17,
      "outputs": [
        {
          "output_type": "display_data",
          "data": {
            "text/plain": [
              "<IPython.core.display.Javascript object>"
            ],
            "application/javascript": [
              "\n",
              "    async function download(id, filename, size) {\n",
              "      if (!google.colab.kernel.accessAllowed) {\n",
              "        return;\n",
              "      }\n",
              "      const div = document.createElement('div');\n",
              "      const label = document.createElement('label');\n",
              "      label.textContent = `Downloading \"${filename}\": `;\n",
              "      div.appendChild(label);\n",
              "      const progress = document.createElement('progress');\n",
              "      progress.max = size;\n",
              "      div.appendChild(progress);\n",
              "      document.body.appendChild(div);\n",
              "\n",
              "      const buffers = [];\n",
              "      let downloaded = 0;\n",
              "\n",
              "      const channel = await google.colab.kernel.comms.open(id);\n",
              "      // Send a message to notify the kernel that we're ready.\n",
              "      channel.send({})\n",
              "\n",
              "      for await (const message of channel.messages) {\n",
              "        // Send a message to notify the kernel that we're ready.\n",
              "        channel.send({})\n",
              "        if (message.buffers) {\n",
              "          for (const buffer of message.buffers) {\n",
              "            buffers.push(buffer);\n",
              "            downloaded += buffer.byteLength;\n",
              "            progress.value = downloaded;\n",
              "          }\n",
              "        }\n",
              "      }\n",
              "      const blob = new Blob(buffers, {type: 'application/binary'});\n",
              "      const a = document.createElement('a');\n",
              "      a.href = window.URL.createObjectURL(blob);\n",
              "      a.download = filename;\n",
              "      div.appendChild(a);\n",
              "      a.click();\n",
              "      div.remove();\n",
              "    }\n",
              "  "
            ]
          },
          "metadata": {}
        },
        {
          "output_type": "display_data",
          "data": {
            "text/plain": [
              "<IPython.core.display.Javascript object>"
            ],
            "application/javascript": [
              "download(\"download_d7a64291-fb7c-414a-a2be-f832a11f5c85\", \"predictions.csv\", 2619)"
            ]
          },
          "metadata": {}
        }
      ]
    },
    {
      "cell_type": "markdown",
      "source": [
        "##Model Performance:\n",
        "#Linear Regression’s Success:\n",
        "The high R² (0.9752) suggests that total_buy_volume has a strong linear relationship with features, particularly total_fees.\n",
        "\n",
        "This makes Linear Regression a surprisingly effective model despite its simplicity.\n",
        "\n",
        "\n",
        "#Overfitting Concerns:\n",
        " Negative CV R² scores (e.g., -1.8309 for Linear Regression) indicate that all models struggle to generalize, likely due to a small dataset (possibly only a few days of data).\n",
        "\n",
        "The high variance in CV R² for Random Forest (5.3627) suggests instability.\n",
        "\n",
        "#High MSE:\n",
        "The large MSE values (e.g., 422.14B for Linear Regression) reflect the scale of total_buy_volume (likely in millions or billions USD). Log-transformation could normalize this."
      ],
      "metadata": {
        "id": "ip2UlHOQzmDf"
      }
    },
    {
      "cell_type": "markdown",
      "source": [
        "##Feature Importance:\n",
        "#Total Fees Dominance:\n",
        "The ~94% importance of total_fees in both Random Forest and Gradient Boosting indicates that fees are a proxy for trade size, as larger trades incur higher fees. This is expected in trading data.\n",
        "#Low Sentiment Impact:\n",
        "The minimal importance of sentiment_value (~0.5%) is likely due to the 2018 sentiment data not aligning with 2024 trader data, causing all values to default to Neutral (3).\n",
        "#Other Features:\n",
        "trade_count (3-4%) and avg_execution_price (~1%) have minor contributions, suggesting that trading frequency and price levels play secondary roles."
      ],
      "metadata": {
        "id": "BCjW3rBI0eMF"
      }
    },
    {
      "cell_type": "markdown",
      "source": [
        "##Actionable Insights:\n",
        "#Fee Optimization:\n",
        "Traders should consolidate trades to reduce fees, especially during high-volume periods.\n",
        "#Contrarian Opportunities:\n",
        "The high buy volume on February 12, 2024 (Fear day) suggests traders were buying aggressively, possibly anticipating a rebound. This could be a strategy to explore.\n",
        "#Sentiment Data Fix:\n",
        "Acquiring 2024 sentiment data is critical to assess its true impact on trading behavior."
      ],
      "metadata": {
        "id": "KHb0apCL03Hz"
      }
    },
    {
      "cell_type": "code",
      "source": [],
      "metadata": {
        "id": "Y_82XyeHxff2"
      },
      "execution_count": null,
      "outputs": []
    }
  ]
}